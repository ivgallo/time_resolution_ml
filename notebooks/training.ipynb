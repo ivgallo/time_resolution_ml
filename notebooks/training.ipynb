{
 "cells": [
  {
   "cell_type": "markdown",
   "id": "fb69d203",
   "metadata": {},
   "source": [
    "# 🧠 Entraînement de modèles de régression\n",
    "\n",
    "Ce notebook a pour but d’entraîner différents **modèles de régression supervisée** afin de prédire le temps de résolution des tickets d’incidents.\n",
    "\n",
    "Les étapes suivantes sont couvertes :\n",
    "\n",
    "- Chargement du jeu de données prétraité\n",
    "- Séparation en ensembles d'entraînement et de test\n",
    "- Construction d’un pipeline avec transformation des variables\n",
    "- Entraînement de plusieurs modèles (régression linéaire, régularisée, ensamble, etc.)\n",
    "- Évaluation des performances à l’aide de métriques appropriées\n",
    "- Sélection du meilleur modèle\n",
    "- Sauvegarde du pipeline pour une utilisation future (API, application, etc.)\n"
   ]
  },
  {
   "cell_type": "code",
   "id": "4d540643524a2af3",
   "metadata": {
    "ExecuteTime": {
     "end_time": "2025-05-20T17:49:58.620826Z",
     "start_time": "2025-05-20T17:49:58.615979Z"
    }
   },
   "source": [
    "import pandas as pd\n",
    "import numpy as np\n",
    "from sklearn.model_selection import train_test_split,GridSearchCV\n",
    "from sklearn.linear_model import LinearRegression, Ridge, Lasso\n",
    "from sklearn.preprocessing import StandardScaler, OneHotEncoder\n",
    "from sklearn.compose import ColumnTransformer\n",
    "from sklearn.metrics import root_mean_squared_error,r2_score, mean_squared_error\n",
    "from sklearn.pipeline import Pipeline\n",
    "from sklearn.ensemble import GradientBoostingRegressor\n",
    "from sklearn.ensemble import RandomForestRegressor\n",
    "import joblib\n",
    "import time\n",
    "import os\n",
    "\n",
    "PROJECT_ROOT = os.path.abspath(os.path.join(os.getcwd(), \"..\"))\n"
   ],
   "outputs": [],
   "execution_count": 23
  },
  {
   "metadata": {},
   "cell_type": "markdown",
   "source": [
    "##### Chargement et exploration des données\n",
    "\n",
    "> Chager le jeu de données nettoyé et examine ses caractéristiques principales pour comprendre la structure et la distribution des données."
   ],
   "id": "da93873c58afdc19"
  },
  {
   "cell_type": "code",
   "id": "56544104a924faca",
   "metadata": {
    "ExecuteTime": {
     "end_time": "2025-05-20T17:49:58.699247Z",
     "start_time": "2025-05-20T17:49:58.671660Z"
    }
   },
   "source": [
    "df = pd.read_csv(os.path.join(PROJECT_ROOT, \"data\", \"processed\", \"clean_trouble_tickets.csv\"))\n",
    "df.head()"
   ],
   "outputs": [
    {
     "data": {
      "text/plain": [
       "   ticketId  category         creationDate                   device  \\\n",
       "0  T4347360         9  2025-01-01 00:10:00  Gateway-CHI-V6500-WH892   \n",
       "1  T4347363         9  2025-01-01 00:20:00    Modem-NYC-S8500-YE944   \n",
       "2  T4347366         9  2025-01-01 00:25:00  Gateway-CHI-V6500-WH892   \n",
       "3  T4347375         9  2025-01-01 00:40:00  Gateway-CHI-V6500-WH892   \n",
       "4  T4347376         9  2025-01-01 00:40:00      Hub-SEA-M3000-SJ762   \n",
       "\n",
       "   issueType  priority  severity  status       resolutionDate    customer  \\\n",
       "0        267         0         2  Closed  2025-01-01 09:00:00  9905095026   \n",
       "1          0         0         2  Closed  2025-01-01 05:52:28  9905095026   \n",
       "2         82         0         2  Closed  2025-01-01 09:00:00  9905095026   \n",
       "3         46         0         2  Closed  2025-01-01 09:00:00  9905095026   \n",
       "4         31         0         2  Closed  2025-01-01 09:00:00  9902641725   \n",
       "\n",
       "   resolution_time  creation_day_of_week  creation_month  is_weekend  \n",
       "0         8.833333                     2               1           0  \n",
       "1         5.541111                     2               1           0  \n",
       "2         8.583333                     2               1           0  \n",
       "3         8.333333                     2               1           0  \n",
       "4         8.333333                     2               1           0  "
      ],
      "text/html": [
       "<div>\n",
       "<style scoped>\n",
       "    .dataframe tbody tr th:only-of-type {\n",
       "        vertical-align: middle;\n",
       "    }\n",
       "\n",
       "    .dataframe tbody tr th {\n",
       "        vertical-align: top;\n",
       "    }\n",
       "\n",
       "    .dataframe thead th {\n",
       "        text-align: right;\n",
       "    }\n",
       "</style>\n",
       "<table border=\"1\" class=\"dataframe\">\n",
       "  <thead>\n",
       "    <tr style=\"text-align: right;\">\n",
       "      <th></th>\n",
       "      <th>ticketId</th>\n",
       "      <th>category</th>\n",
       "      <th>creationDate</th>\n",
       "      <th>device</th>\n",
       "      <th>issueType</th>\n",
       "      <th>priority</th>\n",
       "      <th>severity</th>\n",
       "      <th>status</th>\n",
       "      <th>resolutionDate</th>\n",
       "      <th>customer</th>\n",
       "      <th>resolution_time</th>\n",
       "      <th>creation_day_of_week</th>\n",
       "      <th>creation_month</th>\n",
       "      <th>is_weekend</th>\n",
       "    </tr>\n",
       "  </thead>\n",
       "  <tbody>\n",
       "    <tr>\n",
       "      <th>0</th>\n",
       "      <td>T4347360</td>\n",
       "      <td>9</td>\n",
       "      <td>2025-01-01 00:10:00</td>\n",
       "      <td>Gateway-CHI-V6500-WH892</td>\n",
       "      <td>267</td>\n",
       "      <td>0</td>\n",
       "      <td>2</td>\n",
       "      <td>Closed</td>\n",
       "      <td>2025-01-01 09:00:00</td>\n",
       "      <td>9905095026</td>\n",
       "      <td>8.833333</td>\n",
       "      <td>2</td>\n",
       "      <td>1</td>\n",
       "      <td>0</td>\n",
       "    </tr>\n",
       "    <tr>\n",
       "      <th>1</th>\n",
       "      <td>T4347363</td>\n",
       "      <td>9</td>\n",
       "      <td>2025-01-01 00:20:00</td>\n",
       "      <td>Modem-NYC-S8500-YE944</td>\n",
       "      <td>0</td>\n",
       "      <td>0</td>\n",
       "      <td>2</td>\n",
       "      <td>Closed</td>\n",
       "      <td>2025-01-01 05:52:28</td>\n",
       "      <td>9905095026</td>\n",
       "      <td>5.541111</td>\n",
       "      <td>2</td>\n",
       "      <td>1</td>\n",
       "      <td>0</td>\n",
       "    </tr>\n",
       "    <tr>\n",
       "      <th>2</th>\n",
       "      <td>T4347366</td>\n",
       "      <td>9</td>\n",
       "      <td>2025-01-01 00:25:00</td>\n",
       "      <td>Gateway-CHI-V6500-WH892</td>\n",
       "      <td>82</td>\n",
       "      <td>0</td>\n",
       "      <td>2</td>\n",
       "      <td>Closed</td>\n",
       "      <td>2025-01-01 09:00:00</td>\n",
       "      <td>9905095026</td>\n",
       "      <td>8.583333</td>\n",
       "      <td>2</td>\n",
       "      <td>1</td>\n",
       "      <td>0</td>\n",
       "    </tr>\n",
       "    <tr>\n",
       "      <th>3</th>\n",
       "      <td>T4347375</td>\n",
       "      <td>9</td>\n",
       "      <td>2025-01-01 00:40:00</td>\n",
       "      <td>Gateway-CHI-V6500-WH892</td>\n",
       "      <td>46</td>\n",
       "      <td>0</td>\n",
       "      <td>2</td>\n",
       "      <td>Closed</td>\n",
       "      <td>2025-01-01 09:00:00</td>\n",
       "      <td>9905095026</td>\n",
       "      <td>8.333333</td>\n",
       "      <td>2</td>\n",
       "      <td>1</td>\n",
       "      <td>0</td>\n",
       "    </tr>\n",
       "    <tr>\n",
       "      <th>4</th>\n",
       "      <td>T4347376</td>\n",
       "      <td>9</td>\n",
       "      <td>2025-01-01 00:40:00</td>\n",
       "      <td>Hub-SEA-M3000-SJ762</td>\n",
       "      <td>31</td>\n",
       "      <td>0</td>\n",
       "      <td>2</td>\n",
       "      <td>Closed</td>\n",
       "      <td>2025-01-01 09:00:00</td>\n",
       "      <td>9902641725</td>\n",
       "      <td>8.333333</td>\n",
       "      <td>2</td>\n",
       "      <td>1</td>\n",
       "      <td>0</td>\n",
       "    </tr>\n",
       "  </tbody>\n",
       "</table>\n",
       "</div>"
      ]
     },
     "execution_count": 24,
     "metadata": {},
     "output_type": "execute_result"
    }
   ],
   "execution_count": 24
  },
  {
   "cell_type": "code",
   "id": "4475a166c980bd7d",
   "metadata": {
    "ExecuteTime": {
     "end_time": "2025-05-20T17:49:58.806293Z",
     "start_time": "2025-05-20T17:49:58.795575Z"
    }
   },
   "source": [
    "df.info()"
   ],
   "outputs": [
    {
     "name": "stdout",
     "output_type": "stream",
     "text": [
      "<class 'pandas.core.frame.DataFrame'>\n",
      "RangeIndex: 4737 entries, 0 to 4736\n",
      "Data columns (total 14 columns):\n",
      " #   Column                Non-Null Count  Dtype  \n",
      "---  ------                --------------  -----  \n",
      " 0   ticketId              4737 non-null   object \n",
      " 1   category              4737 non-null   int64  \n",
      " 2   creationDate          4737 non-null   object \n",
      " 3   device                4737 non-null   object \n",
      " 4   issueType             4737 non-null   int64  \n",
      " 5   priority              4737 non-null   int64  \n",
      " 6   severity              4737 non-null   int64  \n",
      " 7   status                4737 non-null   object \n",
      " 8   resolutionDate        4737 non-null   object \n",
      " 9   customer              4737 non-null   int64  \n",
      " 10  resolution_time       4737 non-null   float64\n",
      " 11  creation_day_of_week  4737 non-null   int64  \n",
      " 12  creation_month        4737 non-null   int64  \n",
      " 13  is_weekend            4737 non-null   int64  \n",
      "dtypes: float64(1), int64(8), object(5)\n",
      "memory usage: 518.2+ KB\n"
     ]
    }
   ],
   "execution_count": 25
  },
  {
   "metadata": {},
   "cell_type": "markdown",
   "source": [
    "##### Analyse des corrélations\n",
    "\n",
    "> Analyse des corrélations entre les variables numériques et la variable cible (temps de résolution) pour identifier les features les plus importantes.\n"
   ],
   "id": "4c4cc00a335c9dc8"
  },
  {
   "cell_type": "code",
   "id": "8ef379eb7a24c832",
   "metadata": {
    "ExecuteTime": {
     "end_time": "2025-05-20T17:49:58.890710Z",
     "start_time": "2025-05-20T17:49:58.883288Z"
    }
   },
   "source": [
    "# Corrélations avec la variable cible\n",
    "numeric_cols = df.select_dtypes(include=[np.number]).columns\n",
    "correlations = df[numeric_cols].corr()['resolution_time'].sort_values(ascending=False)\n",
    "print(\"\\nCorrélations avec le temps de résolution:\")\n",
    "print(correlations)"
   ],
   "outputs": [
    {
     "name": "stdout",
     "output_type": "stream",
     "text": [
      "\n",
      "Corrélations avec le temps de résolution:\n",
      "resolution_time         1.000000\n",
      "priority                0.768150\n",
      "creation_month          0.333608\n",
      "is_weekend              0.147683\n",
      "creation_day_of_week    0.142696\n",
      "issueType               0.111931\n",
      "customer                0.049525\n",
      "severity                0.030258\n",
      "category               -0.365367\n",
      "Name: resolution_time, dtype: float64\n"
     ]
    }
   ],
   "execution_count": 26
  },
  {
   "metadata": {},
   "cell_type": "markdown",
   "source": [
    "##### Sélection des variables prédicteurs\n",
    "\n",
    "> Définition des variables prédicteurs à utiliser dans les modèles, basées sur l'analyse préliminaire et la compréhension du domaine.\n",
    "\n"
   ],
   "id": "cc5a7108666a6d"
  },
  {
   "cell_type": "code",
   "id": "2f09c8240c6cc2f1",
   "metadata": {
    "ExecuteTime": {
     "end_time": "2025-05-20T17:49:59.047338Z",
     "start_time": "2025-05-20T17:49:59.044514Z"
    }
   },
   "source": [
    "selected_features = [\n",
    "    'priority',\n",
    "    'category',\n",
    "    'creation_month',\n",
    "    'creation_day_of_week',\n",
    "    'is_weekend',\n",
    "    'issueType'\n",
    "]"
   ],
   "outputs": [],
   "execution_count": 27
  },
  {
   "metadata": {},
   "cell_type": "markdown",
   "source": [
    "##### Préparation des données d'entraînement\n",
    "\n",
    "> Division du jeu de données en ensembles d'entraînement et de test pour permettre l'évaluation objective des performances des modèles."
   ],
   "id": "c78866490fb97938"
  },
  {
   "cell_type": "code",
   "id": "65754927c119b87d",
   "metadata": {
    "ExecuteTime": {
     "end_time": "2025-05-20T17:49:59.151877Z",
     "start_time": "2025-05-20T17:49:59.143936Z"
    }
   },
   "source": [
    "# Sélection des features à utiliser\n",
    "X = df[selected_features]\n",
    "y = df['resolution_time']\n",
    "\n",
    "# Entraînement et test\n",
    "X_train, X_test, y_train, y_test = train_test_split(X, y, test_size=0.3, random_state=42)\n",
    "\n",
    "print(f\"\\nTaille de l'ensemble d'entraînement: {X_train.shape}\")\n",
    "print(f\"Taille de l'ensemble de test: {X_test.shape}\")"
   ],
   "outputs": [
    {
     "name": "stdout",
     "output_type": "stream",
     "text": [
      "\n",
      "Taille de l'ensemble d'entraînement: (3315, 6)\n",
      "Taille de l'ensemble de test: (1422, 6)\n"
     ]
    }
   ],
   "execution_count": 28
  },
  {
   "metadata": {},
   "cell_type": "markdown",
   "source": [
    "##### Définition de la fonction d'évaluation\n",
    "\n",
    "> Création d'une fonction pour évaluer systématiquement les performances des modèles, incluant le calcul des métriques RMSE et R² et le temps d'exécution.\n"
   ],
   "id": "330aecef184b394c"
  },
  {
   "cell_type": "code",
   "id": "b959c58c8705e77b",
   "metadata": {
    "ExecuteTime": {
     "end_time": "2025-05-20T17:49:59.239779Z",
     "start_time": "2025-05-20T17:49:59.233929Z"
    }
   },
   "source": [
    "def evaluate_model(model, X_train, X_test, y_train, y_test, model_name):\n",
    "\n",
    "    start_time = time.time()\n",
    "\n",
    "    model.fit(X_train, y_train)\n",
    "\n",
    "    y_train_pred = model.predict(X_train)\n",
    "    y_test_pred = model.predict(X_test)\n",
    "\n",
    "    total_time = time.time() - start_time\n",
    "\n",
    "    train_rmse = root_mean_squared_error(y_train, y_train_pred)\n",
    "    test_rmse = root_mean_squared_error(y_test, y_test_pred)\n",
    "    train_r2 = r2_score(y_train, y_train_pred)\n",
    "    test_r2 = r2_score(y_test, y_test_pred)\n",
    "\n",
    "    results = {\n",
    "        'Model': model_name,\n",
    "        'Time (s)': round(total_time, 4),\n",
    "        'RMSE (train)': round(train_rmse, 4),\n",
    "        'RMSE (test)': round(test_rmse, 4),\n",
    "        'R² (train)': round(train_r2, 4),\n",
    "        'R² (test)': round(test_r2, 4)\n",
    "    }\n",
    "    return model,results\n"
   ],
   "outputs": [],
   "execution_count": 29
  },
  {
   "metadata": {},
   "cell_type": "markdown",
   "source": [
    "##### Configuration du préprocesseur\n",
    "\n",
    "> Définition du pipeline de prétraitement pour transformer les variables catégorielles et numériques de manière cohérente.\n",
    "\n"
   ],
   "id": "396636b28a2203d8"
  },
  {
   "cell_type": "code",
   "id": "c867fbb02ac6a6f1",
   "metadata": {
    "ExecuteTime": {
     "end_time": "2025-05-20T17:49:59.408342Z",
     "start_time": "2025-05-20T17:49:59.404231Z"
    }
   },
   "source": [
    "preprocessor = ColumnTransformer(\n",
    "    transformers=[\n",
    "        ('num', StandardScaler(), ['creation_month', 'creation_day_of_week', 'is_weekend']),\n",
    "        ('priority', OneHotEncoder(handle_unknown='ignore'), ['priority'])\n",
    "    ],\n",
    "    remainder='passthrough'\n",
    ")\n"
   ],
   "outputs": [],
   "execution_count": 30
  },
  {
   "metadata": {},
   "cell_type": "markdown",
   "source": [
    "### Entraînement des modèles\n",
    "\n",
    "Cette section comprend l'entraînement de différents modèles de régression pour prédire le temps de résolution:\n"
   ],
   "id": "af7e128a1ab9c323"
  },
  {
   "cell_type": "code",
   "id": "816120ea66aec2ae",
   "metadata": {
    "ExecuteTime": {
     "end_time": "2025-05-20T17:49:59.457238Z",
     "start_time": "2025-05-20T17:49:59.453331Z"
    }
   },
   "source": [
    "results_list = []"
   ],
   "outputs": [],
   "execution_count": 31
  },
  {
   "metadata": {},
   "cell_type": "markdown",
   "source": [
    "##### Régression linéaire\n",
    "\n",
    "> Entraînement d'un modèle de régression linéaire standard comme référence de base.\n"
   ],
   "id": "bd92c9bcdb9b727a"
  },
  {
   "cell_type": "code",
   "id": "2f706748f27b8578",
   "metadata": {
    "ExecuteTime": {
     "end_time": "2025-05-20T17:49:59.538167Z",
     "start_time": "2025-05-20T17:49:59.508056Z"
    }
   },
   "source": [
    "linear_pipeline = Pipeline([\n",
    "    ('preprocessor', preprocessor),\n",
    "    ('regressor', LinearRegression())\n",
    "])\n",
    "\n",
    "linear_model, linear_results = evaluate_model(\n",
    "    linear_pipeline, X_train, X_test, y_train, y_test,\n",
    "    \"Régression Linéaire\"\n",
    ")\n",
    "results_list.append(linear_results)\n"
   ],
   "outputs": [],
   "execution_count": 32
  },
  {
   "metadata": {},
   "cell_type": "markdown",
   "source": [
    "##### Régression Ridge\n",
    "\n",
    "> Application de la régularisation L2 avec optimisation du paramètre\n"
   ],
   "id": "713c4a8614353591"
  },
  {
   "cell_type": "code",
   "id": "fe9d8549908875df",
   "metadata": {
    "ExecuteTime": {
     "end_time": "2025-05-20T17:50:04.195273Z",
     "start_time": "2025-05-20T17:49:59.597024Z"
    }
   },
   "source": [
    "param_grid = {'regressor__alpha': [0.01, 0.1, 1.0, 10.0, 50.0, 100.0]}\n",
    "\n",
    "ridge_pipeline = Pipeline([\n",
    "     ('preprocessor', preprocessor),\n",
    "    ('regressor', Ridge(random_state=42))\n",
    "])\n",
    "\n",
    "grid_search = GridSearchCV(\n",
    "    ridge_pipeline, param_grid, cv=5,\n",
    "    scoring='neg_mean_squared_error', n_jobs=-1\n",
    ")\n",
    "\n",
    "grid_search.fit(X_train, y_train)\n",
    "best_alpha = grid_search.best_params_['regressor__alpha']\n",
    "\n",
    "best_ridge = Pipeline([\n",
    "     ('preprocessor', preprocessor),\n",
    "    ('regressor', Ridge(alpha=best_alpha, random_state=42))\n",
    "])\n",
    "\n",
    "ridge_model, ridge_results = evaluate_model(\n",
    "    best_ridge, X_train, X_test, y_train, y_test,\n",
    "    f\"Régression Ridge (alpha={best_alpha})\"\n",
    ")\n",
    "\n",
    "results_list.append(ridge_results)"
   ],
   "outputs": [],
   "execution_count": 33
  },
  {
   "metadata": {},
   "cell_type": "markdown",
   "source": [
    "##### Régression Lasso\n",
    "\n",
    "> Application de la régularisation L1 avec optimisation du paramètre\n"
   ],
   "id": "8cbffd9ae657da0c"
  },
  {
   "cell_type": "code",
   "id": "f5a09b1037c8c65",
   "metadata": {
    "ExecuteTime": {
     "end_time": "2025-05-20T17:50:04.609753Z",
     "start_time": "2025-05-20T17:50:04.269626Z"
    }
   },
   "source": [
    "lasso_param_grid = {\n",
    "    'regression__alpha': [0.01, 0.1, 1.0, 10.0, 50.0, 100.0]\n",
    "}\n",
    "\n",
    "lasso_pipeline = Pipeline([\n",
    "    ('preprocessor', preprocessor),\n",
    "    ('regression', Lasso(random_state=42, max_iter=10000))\n",
    "])\n",
    "\n",
    "lasso_grid = GridSearchCV(\n",
    "    lasso_pipeline,\n",
    "    lasso_param_grid,\n",
    "    cv=5,\n",
    "    scoring='neg_mean_squared_error',\n",
    "    n_jobs=-1\n",
    ")\n",
    "\n",
    "lasso_grid.fit(X_train, y_train)\n",
    "best_lasso_alpha = lasso_grid.best_params_['regression__alpha']\n",
    "\n",
    "best_lasso = Pipeline([\n",
    "     ('preprocessor', preprocessor),\n",
    "    ('regression', Lasso(alpha=best_lasso_alpha, random_state=42, max_iter=10000))\n",
    "])\n",
    "\n",
    "lasso_model, lasso_results = evaluate_model(\n",
    "    best_lasso, X_train, X_test, y_train, y_test, f\"Régression Lasso (alpha={best_lasso_alpha})\")\n",
    "\n",
    "results_list.append(lasso_results)"
   ],
   "outputs": [],
   "execution_count": 34
  },
  {
   "metadata": {},
   "cell_type": "markdown",
   "source": [
    "##### Gradient Boosting Regressor\n",
    "\n",
    "> Entraînement d'un modèle d'ensemble basé sur le boosting pour capturer les relations non-linéaires.\n"
   ],
   "id": "7773c6acfbd9f612"
  },
  {
   "cell_type": "code",
   "id": "108ee856bf5de3b3",
   "metadata": {
    "ExecuteTime": {
     "end_time": "2025-05-20T17:50:04.965970Z",
     "start_time": "2025-05-20T17:50:04.721214Z"
    }
   },
   "source": [
    "gb_pipeline = Pipeline([\n",
    "    ('preprocessing', preprocessor),\n",
    "    ('model', GradientBoostingRegressor(random_state=42))\n",
    "])\n",
    "\n",
    "gb_model, gb_results = evaluate_model(\n",
    "    gb_pipeline, X_train, X_test, y_train, y_test,\n",
    "    \"Gradient boosting regressor\"\n",
    ")\n",
    "\n",
    "results_list.append(gb_results)"
   ],
   "outputs": [],
   "execution_count": 35
  },
  {
   "metadata": {},
   "cell_type": "markdown",
   "source": [
    "##### Random Forest Regressor\n",
    "\n",
    "> Implémentation d'un modèle d'ensemble basé sur les arbres de décision pour capturer les interactions complexes.\n"
   ],
   "id": "392083999f14bbc9"
  },
  {
   "cell_type": "code",
   "id": "ff11c9717b4e63a8",
   "metadata": {
    "ExecuteTime": {
     "end_time": "2025-05-20T17:50:05.780264Z",
     "start_time": "2025-05-20T17:50:05.085562Z"
    }
   },
   "source": [
    "rf_pipeline = Pipeline([\n",
    "    ('regressor', RandomForestRegressor(n_estimators=100, random_state=42))\n",
    "])\n",
    "\n",
    "rf_model, rf_results = evaluate_model(\n",
    "    rf_pipeline, X_train, X_test, y_train, y_test,\n",
    "    \"Random Forest regressor\"\n",
    ")\n",
    "results_list.append(rf_results)"
   ],
   "outputs": [],
   "execution_count": 36
  },
  {
   "metadata": {},
   "cell_type": "markdown",
   "source": [
    "##### Comparaison des modèles\n",
    "\n",
    "> Analyse comparative des performances de tous les modèles entraînés pour sélectionner le plus approprié selon les métriques définies.\n"
   ],
   "id": "ee22dab8658793af"
  },
  {
   "cell_type": "code",
   "id": "2efda46f42d8c68",
   "metadata": {
    "ExecuteTime": {
     "end_time": "2025-05-20T17:50:05.924726Z",
     "start_time": "2025-05-20T17:50:05.909677Z"
    }
   },
   "source": [
    "results_df = pd.DataFrame(results_list)\n",
    "\n",
    "print(\"Comparaison des performances des modèles:\")\n",
    "display(results_df.sort_values(by='R² (test)', ascending=False))\n"
   ],
   "outputs": [
    {
     "name": "stdout",
     "output_type": "stream",
     "text": [
      "Comparaison des performances des modèles:\n"
     ]
    },
    {
     "data": {
      "text/plain": [
       "                           Model  Time (s)  RMSE (train)  RMSE (test)  \\\n",
       "3    Gradient boosting regressor    0.2397        6.3172       6.5129   \n",
       "4        Random Forest regressor    0.6896        4.2346       6.8943   \n",
       "2  Régression Lasso (alpha=0.01)    0.0564        8.1830       8.1659   \n",
       "0            Régression Linéaire    0.0243        8.1823       8.1698   \n",
       "1  Régression Ridge (alpha=0.01)    0.0178        8.1823       8.1698   \n",
       "\n",
       "   R² (train)  R² (test)  \n",
       "3      0.7753     0.7653  \n",
       "4      0.8990     0.7371  \n",
       "2      0.6229     0.6311  \n",
       "0      0.6230     0.6308  \n",
       "1      0.6230     0.6308  "
      ],
      "text/html": [
       "<div>\n",
       "<style scoped>\n",
       "    .dataframe tbody tr th:only-of-type {\n",
       "        vertical-align: middle;\n",
       "    }\n",
       "\n",
       "    .dataframe tbody tr th {\n",
       "        vertical-align: top;\n",
       "    }\n",
       "\n",
       "    .dataframe thead th {\n",
       "        text-align: right;\n",
       "    }\n",
       "</style>\n",
       "<table border=\"1\" class=\"dataframe\">\n",
       "  <thead>\n",
       "    <tr style=\"text-align: right;\">\n",
       "      <th></th>\n",
       "      <th>Model</th>\n",
       "      <th>Time (s)</th>\n",
       "      <th>RMSE (train)</th>\n",
       "      <th>RMSE (test)</th>\n",
       "      <th>R² (train)</th>\n",
       "      <th>R² (test)</th>\n",
       "    </tr>\n",
       "  </thead>\n",
       "  <tbody>\n",
       "    <tr>\n",
       "      <th>3</th>\n",
       "      <td>Gradient boosting regressor</td>\n",
       "      <td>0.2397</td>\n",
       "      <td>6.3172</td>\n",
       "      <td>6.5129</td>\n",
       "      <td>0.7753</td>\n",
       "      <td>0.7653</td>\n",
       "    </tr>\n",
       "    <tr>\n",
       "      <th>4</th>\n",
       "      <td>Random Forest regressor</td>\n",
       "      <td>0.6896</td>\n",
       "      <td>4.2346</td>\n",
       "      <td>6.8943</td>\n",
       "      <td>0.8990</td>\n",
       "      <td>0.7371</td>\n",
       "    </tr>\n",
       "    <tr>\n",
       "      <th>2</th>\n",
       "      <td>Régression Lasso (alpha=0.01)</td>\n",
       "      <td>0.0564</td>\n",
       "      <td>8.1830</td>\n",
       "      <td>8.1659</td>\n",
       "      <td>0.6229</td>\n",
       "      <td>0.6311</td>\n",
       "    </tr>\n",
       "    <tr>\n",
       "      <th>0</th>\n",
       "      <td>Régression Linéaire</td>\n",
       "      <td>0.0243</td>\n",
       "      <td>8.1823</td>\n",
       "      <td>8.1698</td>\n",
       "      <td>0.6230</td>\n",
       "      <td>0.6308</td>\n",
       "    </tr>\n",
       "    <tr>\n",
       "      <th>1</th>\n",
       "      <td>Régression Ridge (alpha=0.01)</td>\n",
       "      <td>0.0178</td>\n",
       "      <td>8.1823</td>\n",
       "      <td>8.1698</td>\n",
       "      <td>0.6230</td>\n",
       "      <td>0.6308</td>\n",
       "    </tr>\n",
       "  </tbody>\n",
       "</table>\n",
       "</div>"
      ]
     },
     "metadata": {},
     "output_type": "display_data"
    }
   ],
   "execution_count": 37
  },
  {
   "metadata": {},
   "cell_type": "markdown",
   "source": [
    "##### Sauvegarde du modèle\n",
    "\n",
    "> Exportation du pipeline complet incluant prétraitement et modèle pour une utilisation future dans une application.\n"
   ],
   "id": "4fe1a4bf66d1697c"
  },
  {
   "cell_type": "code",
   "id": "e3b8bc100d3b0b3e",
   "metadata": {
    "ExecuteTime": {
     "end_time": "2025-05-20T17:50:06.150895Z",
     "start_time": "2025-05-20T17:50:06.137786Z"
    }
   },
   "source": [
    "joblib.dump(gb_pipeline, os.path.join(PROJECT_ROOT, \"models\", \"model.pkl\"))\n",
    "print(\"Pipeline guardado como model.pkl\")"
   ],
   "outputs": [
    {
     "name": "stdout",
     "output_type": "stream",
     "text": [
      "Pipeline guardado como model.pkl\n"
     ]
    }
   ],
   "execution_count": 38
  },
  {
   "cell_type": "markdown",
   "id": "5356a28e",
   "metadata": {},
   "source": [
    "## ✅ Conclusion de l'entraînement\n",
    "\n",
    "- Plusieurs modèles ont été testés : régression linéaire, Ridge, Lasso, Random Forest, Gradient Boosting, etc.\n",
    "- Les performances ont été évaluées avec RMSE et R² sur les ensembles d'entraînement et de test\n",
    "- Le meilleur compromis performance/généralisation a été sélectionné pour un usage ultérieur\n",
    "- Le pipeline complet a été sauvegardé pour intégration dans une API\n",
    "\n",
    "➡️ L'étape suivante consistera à **intégrer ce modèle dans une application Flask** pour effectuer des prédictions à partir de nouveaux tickets.\n"
   ]
  }
 ],
 "metadata": {
  "kernelspec": {
   "display_name": "Python 3",
   "language": "python",
   "name": "python3"
  },
  "language_info": {
   "codemirror_mode": {
    "name": "ipython",
    "version": 2
   },
   "file_extension": ".py",
   "mimetype": "text/x-python",
   "name": "python",
   "nbconvert_exporter": "python",
   "pygments_lexer": "ipython2",
   "version": "2.7.6"
  }
 },
 "nbformat": 4,
 "nbformat_minor": 5
}
