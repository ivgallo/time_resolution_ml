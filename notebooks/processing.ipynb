{
 "cells": [
  {
   "cell_type": "markdown",
   "id": "9f834386",
   "metadata": {},
   "source": [
    "# 🧼 Prétraitement des données\n",
    "\n",
    "**Objectif**: Transformer le jeu de données brut, suite à l'analyse exploratoire, en un format **propre et exploitable** pour l'entraînement de modèles de machine learning.\n",
    "\n",
    "Les étapes suivantes seront réalisées:\n",
    "\n",
    "1. **Nettoyage initial**:\n",
    "   - Suppression des colonnes inutiles ou peu informatives\n",
    "   - Gestion des valeurs manquantes\n",
    "   - Identification et traitement des valeurs aberrantes (outliers)\n",
    "\n",
    "2. **Transformation des variables**:\n",
    "   - Encodage des variables catégorielles\n",
    "   - Normalisation des variables numériques\n",
    "   - Création de nouvelles variables pertinentes (feature engineering)\n",
    "\n",
    "3. **Préparation finale**:\n",
    "   - Validation de la qualité des données transformées\n",
    "   - Sauvegarde du dataset nettoyé pour la modélisation\n",
    "\n",
    "Ce prétraitement est indispensable pour garantir la qualité, la robustesse et la performance des modèles qui seront entraînés par la suite.\n",
    "\n"
   ]
  },
  {
   "cell_type": "code",
   "id": "initial_id",
   "metadata": {
    "collapsed": true,
    "ExecuteTime": {
     "end_time": "2025-05-22T02:38:21.902079Z",
     "start_time": "2025-05-22T02:38:21.825210Z"
    }
   },
   "source": [
    "import pandas as pd\n",
    "import matplotlib.pyplot as plt\n",
    "import seaborn as sns\n",
    "from sklearn.preprocessing import LabelEncoder\n",
    "import pickle\n",
    "import os\n",
    "\n",
    "sns.set_theme(style=\"whitegrid\")\n",
    "plt.rcParams['axes.facecolor'] = 'white'\n",
    "plt.rcParams['font.size'] = 10\n",
    "plt.rcParams['axes.titlesize'] = 12\n",
    "plt.rcParams['axes.labelsize'] = 10\n",
    "plt.rcParams['xtick.labelsize'] = 8\n",
    "plt.rcParams['ytick.labelsize'] = 8\n",
    "plt.rcParams['legend.fontsize'] = 8\n",
    "\n",
    "PROJECT_ROOT = os.environ.get(\"GITHUB_WORKSPACE\") if \"GITHUB_WORKSPACE\" in os.environ else os.path.abspath(os.path.join(os.getcwd(), \"..\"))\n",
    "print(f\"Using PROJECT_ROOT: {PROJECT_ROOT}\")\n"
   ],
   "outputs": [
    {
     "name": "stdout",
     "output_type": "stream",
     "text": [
      "Using PROJECT_ROOT: /Users/ivan.gallo/Courses/AI-Bois-de-Boulonge/Winter-2025/Supervised Learning/Project/time_resolution_ml\n"
     ]
    }
   ],
   "execution_count": 71
  },
  {
   "metadata": {},
   "cell_type": "markdown",
   "source": [
    "#### Nettoyage initial\n",
    "\n",
    "> Dans cette étape fondamentale, nous allons procéder au nettoyage des données brutes pour éliminer les éléments qui pourraient compromettre la qualité de notre analyse et de nos modèles prédictifs.\n"
   ],
   "id": "8ea2676395b56096"
  },
  {
   "cell_type": "code",
   "id": "f443d271e833609",
   "metadata": {
    "ExecuteTime": {
     "end_time": "2025-05-22T02:38:22.143132Z",
     "start_time": "2025-05-22T02:38:21.968706Z"
    }
   },
   "source": [
    "\n",
    "df = pd.read_csv(os.path.join(PROJECT_ROOT, \"data\", \"raw\", \"trouble_tickets.csv\"))\n",
    "df.head()"
   ],
   "outputs": [
    {
     "data": {
      "text/plain": [
       "   ticketId          category         creationDate                   device  \\\n",
       "0  T4347360  Wireless Network  2025-01-01 00:10:00  Gateway-CHI-V6500-WH892   \n",
       "1  T4347363  Wireless Network  2025-01-01 00:20:00    Modem-NYC-S8500-YE944   \n",
       "2  T4347366  Wireless Network  2025-01-01 00:25:00  Gateway-CHI-V6500-WH892   \n",
       "3  T4347375  Wireless Network  2025-01-01 00:40:00  Gateway-CHI-V6500-WH892   \n",
       "4  T4347376  Wireless Network  2025-01-01 00:40:00      Hub-SEA-M3000-SJ762   \n",
       "\n",
       "                               issueType  priority numberAffectedUsers  \\\n",
       "0  [ROOT] Configuration Error on Network  Critical                 NaN   \n",
       "1  Authentication Failure on Backup Link  Critical                 NaN   \n",
       "2               Routing Loop on Firewall  Critical                 NaN   \n",
       "3             Hardware Failure on Router  Critical                 NaN   \n",
       "4             Connection Down on Circuit  Critical                 NaN   \n",
       "\n",
       "   reportedBy severity  status       resolutionDate    customer  \n",
       "0  Joseph Lee  Unknown  Closed  2025-01-01 09:00:00  9905095026  \n",
       "1  Joseph Lee  Unknown  Closed  2025-01-01 05:52:28  9905095026  \n",
       "2  Joseph Lee  Unknown  Closed  2025-01-01 09:00:00  9905095026  \n",
       "3  Joseph Lee  Unknown  Closed  2025-01-01 09:00:00  9905095026  \n",
       "4  Joseph Lee  Unknown  Closed  2025-01-01 09:00:00  9902641725  "
      ],
      "text/html": [
       "<div>\n",
       "<style scoped>\n",
       "    .dataframe tbody tr th:only-of-type {\n",
       "        vertical-align: middle;\n",
       "    }\n",
       "\n",
       "    .dataframe tbody tr th {\n",
       "        vertical-align: top;\n",
       "    }\n",
       "\n",
       "    .dataframe thead th {\n",
       "        text-align: right;\n",
       "    }\n",
       "</style>\n",
       "<table border=\"1\" class=\"dataframe\">\n",
       "  <thead>\n",
       "    <tr style=\"text-align: right;\">\n",
       "      <th></th>\n",
       "      <th>ticketId</th>\n",
       "      <th>category</th>\n",
       "      <th>creationDate</th>\n",
       "      <th>device</th>\n",
       "      <th>issueType</th>\n",
       "      <th>priority</th>\n",
       "      <th>numberAffectedUsers</th>\n",
       "      <th>reportedBy</th>\n",
       "      <th>severity</th>\n",
       "      <th>status</th>\n",
       "      <th>resolutionDate</th>\n",
       "      <th>customer</th>\n",
       "    </tr>\n",
       "  </thead>\n",
       "  <tbody>\n",
       "    <tr>\n",
       "      <th>0</th>\n",
       "      <td>T4347360</td>\n",
       "      <td>Wireless Network</td>\n",
       "      <td>2025-01-01 00:10:00</td>\n",
       "      <td>Gateway-CHI-V6500-WH892</td>\n",
       "      <td>[ROOT] Configuration Error on Network</td>\n",
       "      <td>Critical</td>\n",
       "      <td>NaN</td>\n",
       "      <td>Joseph Lee</td>\n",
       "      <td>Unknown</td>\n",
       "      <td>Closed</td>\n",
       "      <td>2025-01-01 09:00:00</td>\n",
       "      <td>9905095026</td>\n",
       "    </tr>\n",
       "    <tr>\n",
       "      <th>1</th>\n",
       "      <td>T4347363</td>\n",
       "      <td>Wireless Network</td>\n",
       "      <td>2025-01-01 00:20:00</td>\n",
       "      <td>Modem-NYC-S8500-YE944</td>\n",
       "      <td>Authentication Failure on Backup Link</td>\n",
       "      <td>Critical</td>\n",
       "      <td>NaN</td>\n",
       "      <td>Joseph Lee</td>\n",
       "      <td>Unknown</td>\n",
       "      <td>Closed</td>\n",
       "      <td>2025-01-01 05:52:28</td>\n",
       "      <td>9905095026</td>\n",
       "    </tr>\n",
       "    <tr>\n",
       "      <th>2</th>\n",
       "      <td>T4347366</td>\n",
       "      <td>Wireless Network</td>\n",
       "      <td>2025-01-01 00:25:00</td>\n",
       "      <td>Gateway-CHI-V6500-WH892</td>\n",
       "      <td>Routing Loop on Firewall</td>\n",
       "      <td>Critical</td>\n",
       "      <td>NaN</td>\n",
       "      <td>Joseph Lee</td>\n",
       "      <td>Unknown</td>\n",
       "      <td>Closed</td>\n",
       "      <td>2025-01-01 09:00:00</td>\n",
       "      <td>9905095026</td>\n",
       "    </tr>\n",
       "    <tr>\n",
       "      <th>3</th>\n",
       "      <td>T4347375</td>\n",
       "      <td>Wireless Network</td>\n",
       "      <td>2025-01-01 00:40:00</td>\n",
       "      <td>Gateway-CHI-V6500-WH892</td>\n",
       "      <td>Hardware Failure on Router</td>\n",
       "      <td>Critical</td>\n",
       "      <td>NaN</td>\n",
       "      <td>Joseph Lee</td>\n",
       "      <td>Unknown</td>\n",
       "      <td>Closed</td>\n",
       "      <td>2025-01-01 09:00:00</td>\n",
       "      <td>9905095026</td>\n",
       "    </tr>\n",
       "    <tr>\n",
       "      <th>4</th>\n",
       "      <td>T4347376</td>\n",
       "      <td>Wireless Network</td>\n",
       "      <td>2025-01-01 00:40:00</td>\n",
       "      <td>Hub-SEA-M3000-SJ762</td>\n",
       "      <td>Connection Down on Circuit</td>\n",
       "      <td>Critical</td>\n",
       "      <td>NaN</td>\n",
       "      <td>Joseph Lee</td>\n",
       "      <td>Unknown</td>\n",
       "      <td>Closed</td>\n",
       "      <td>2025-01-01 09:00:00</td>\n",
       "      <td>9902641725</td>\n",
       "    </tr>\n",
       "  </tbody>\n",
       "</table>\n",
       "</div>"
      ]
     },
     "execution_count": 72,
     "metadata": {},
     "output_type": "execute_result"
    }
   ],
   "execution_count": 72
  },
  {
   "cell_type": "code",
   "id": "17b7dc94c74c01df",
   "metadata": {
    "ExecuteTime": {
     "end_time": "2025-05-22T02:38:22.305151Z",
     "start_time": "2025-05-22T02:38:22.268871Z"
    }
   },
   "source": [
    "df = df.dropna(subset=[\"resolutionDate\"])\n",
    "df = df.drop(columns=['numberAffectedUsers', 'reportedBy'])"
   ],
   "outputs": [],
   "execution_count": 73
  },
  {
   "cell_type": "code",
   "id": "2ce1dcbaa3cd7ccc",
   "metadata": {
    "ExecuteTime": {
     "end_time": "2025-05-22T02:38:22.477547Z",
     "start_time": "2025-05-22T02:38:22.467927Z"
    }
   },
   "source": [
    "def get_missing_values(data):\n",
    "  missing_val = df.isnull().sum()\n",
    "  missing_perc = df.isnull().mean() * 100\n",
    "  missing_df = pd.DataFrame({\n",
    "    'Missing Values': missing_val,\n",
    "    'Percentage (%)': missing_perc\n",
    "  })\n",
    "  return missing_df.sort_values('Percentage (%)', ascending=False)\n",
    "\n"
   ],
   "outputs": [],
   "execution_count": 74
  },
  {
   "metadata": {
    "ExecuteTime": {
     "end_time": "2025-05-22T02:38:22.802124Z",
     "start_time": "2025-05-22T02:38:22.762363Z"
    }
   },
   "cell_type": "code",
   "source": "display(get_missing_values(df))",
   "id": "fa7c23bafe18c1ee",
   "outputs": [
    {
     "data": {
      "text/plain": [
       "                Missing Values  Percentage (%)\n",
       "ticketId                     0             0.0\n",
       "category                     0             0.0\n",
       "creationDate                 0             0.0\n",
       "device                       0             0.0\n",
       "issueType                    0             0.0\n",
       "priority                     0             0.0\n",
       "severity                     0             0.0\n",
       "status                       0             0.0\n",
       "resolutionDate               0             0.0\n",
       "customer                     0             0.0"
      ],
      "text/html": [
       "<div>\n",
       "<style scoped>\n",
       "    .dataframe tbody tr th:only-of-type {\n",
       "        vertical-align: middle;\n",
       "    }\n",
       "\n",
       "    .dataframe tbody tr th {\n",
       "        vertical-align: top;\n",
       "    }\n",
       "\n",
       "    .dataframe thead th {\n",
       "        text-align: right;\n",
       "    }\n",
       "</style>\n",
       "<table border=\"1\" class=\"dataframe\">\n",
       "  <thead>\n",
       "    <tr style=\"text-align: right;\">\n",
       "      <th></th>\n",
       "      <th>Missing Values</th>\n",
       "      <th>Percentage (%)</th>\n",
       "    </tr>\n",
       "  </thead>\n",
       "  <tbody>\n",
       "    <tr>\n",
       "      <th>ticketId</th>\n",
       "      <td>0</td>\n",
       "      <td>0.0</td>\n",
       "    </tr>\n",
       "    <tr>\n",
       "      <th>category</th>\n",
       "      <td>0</td>\n",
       "      <td>0.0</td>\n",
       "    </tr>\n",
       "    <tr>\n",
       "      <th>creationDate</th>\n",
       "      <td>0</td>\n",
       "      <td>0.0</td>\n",
       "    </tr>\n",
       "    <tr>\n",
       "      <th>device</th>\n",
       "      <td>0</td>\n",
       "      <td>0.0</td>\n",
       "    </tr>\n",
       "    <tr>\n",
       "      <th>issueType</th>\n",
       "      <td>0</td>\n",
       "      <td>0.0</td>\n",
       "    </tr>\n",
       "    <tr>\n",
       "      <th>priority</th>\n",
       "      <td>0</td>\n",
       "      <td>0.0</td>\n",
       "    </tr>\n",
       "    <tr>\n",
       "      <th>severity</th>\n",
       "      <td>0</td>\n",
       "      <td>0.0</td>\n",
       "    </tr>\n",
       "    <tr>\n",
       "      <th>status</th>\n",
       "      <td>0</td>\n",
       "      <td>0.0</td>\n",
       "    </tr>\n",
       "    <tr>\n",
       "      <th>resolutionDate</th>\n",
       "      <td>0</td>\n",
       "      <td>0.0</td>\n",
       "    </tr>\n",
       "    <tr>\n",
       "      <th>customer</th>\n",
       "      <td>0</td>\n",
       "      <td>0.0</td>\n",
       "    </tr>\n",
       "  </tbody>\n",
       "</table>\n",
       "</div>"
      ]
     },
     "metadata": {},
     "output_type": "display_data"
    }
   ],
   "execution_count": 75
  },
  {
   "cell_type": "code",
   "id": "f51641b3c3011fdd",
   "metadata": {
    "ExecuteTime": {
     "end_time": "2025-05-22T02:38:23.011590Z",
     "start_time": "2025-05-22T02:38:23.002749Z"
    }
   },
   "source": [
    "dup_count = df.duplicated(subset=\"ticketId\").sum()\n",
    "print(\"Nombre de doublons sur ticketId :\", dup_count)\n",
    "\n",
    "if dup_count:\n",
    "    df = (df.drop_duplicates(subset=\"ticketId\", keep=\"last\"))"
   ],
   "outputs": [
    {
     "name": "stdout",
     "output_type": "stream",
     "text": [
      "Nombre de doublons sur ticketId : 0\n"
     ]
    }
   ],
   "execution_count": 76
  },
  {
   "metadata": {},
   "cell_type": "markdown",
   "source": "#### Transformation des données temporelles",
   "id": "91fb0db7bf86f9c2"
  },
  {
   "metadata": {},
   "cell_type": "markdown",
   "source": [
    "Conversion et calcul du temps de résolution:\n",
    "\n",
    ">Nous commençons par convertir les colonnes de date en format datetime pour faciliter les manipulations temporelles. Cette conversion nous permet ensuite de calculer la **variable cible** de notre modèle : le temps de résolution en heures."
   ],
   "id": "8ec6caedc50f8f7"
  },
  {
   "cell_type": "code",
   "id": "d308f802528ade65",
   "metadata": {
    "ExecuteTime": {
     "end_time": "2025-05-22T02:38:23.294907Z",
     "start_time": "2025-05-22T02:38:23.242366Z"
    }
   },
   "source": [
    "# Convert timestamp columns to datetime\n",
    "df['creationDate'] = pd.to_datetime(df['creationDate'])\n",
    "df['resolutionDate'] = pd.to_datetime(df['resolutionDate'])\n",
    "\n",
    "# Calculate resolution time in hours\n",
    "df['resolution_time'] = (df['resolutionDate'] - df['creationDate']).dt.total_seconds() / 3600"
   ],
   "outputs": [],
   "execution_count": 77
  },
  {
   "metadata": {},
   "cell_type": "markdown",
   "source": [
    "**Extraction de caractéristiques temporelles:**\n",
    "\n",
    "> Nous enrichissons ensuite le dataset avec des variables dérivées des dates, qui pourront servir de prédicteurs pertinents :"
   ],
   "id": "b6479d7783ddc159"
  },
  {
   "cell_type": "code",
   "id": "76aa104980a895ab",
   "metadata": {
    "ExecuteTime": {
     "end_time": "2025-05-22T02:38:23.437067Z",
     "start_time": "2025-05-22T02:38:23.425455Z"
    }
   },
   "source": [
    "df['creation_day_of_week'] = df['creationDate'].dt.dayofweek\n",
    "df['creation_month'] = df['creationDate'].dt.month\n",
    "df['is_weekend'] = df['creation_day_of_week'].isin([5, 6]).astype(int)"
   ],
   "outputs": [],
   "execution_count": 78
  },
  {
   "cell_type": "code",
   "id": "e94a7a9963c6e90e",
   "metadata": {
    "ExecuteTime": {
     "end_time": "2025-05-22T02:38:23.558173Z",
     "start_time": "2025-05-22T02:38:23.538999Z"
    }
   },
   "source": [
    "df.head()"
   ],
   "outputs": [
    {
     "data": {
      "text/plain": [
       "   ticketId          category        creationDate                   device  \\\n",
       "0  T4347360  Wireless Network 2025-01-01 00:10:00  Gateway-CHI-V6500-WH892   \n",
       "1  T4347363  Wireless Network 2025-01-01 00:20:00    Modem-NYC-S8500-YE944   \n",
       "2  T4347366  Wireless Network 2025-01-01 00:25:00  Gateway-CHI-V6500-WH892   \n",
       "3  T4347375  Wireless Network 2025-01-01 00:40:00  Gateway-CHI-V6500-WH892   \n",
       "4  T4347376  Wireless Network 2025-01-01 00:40:00      Hub-SEA-M3000-SJ762   \n",
       "\n",
       "                               issueType  priority severity  status  \\\n",
       "0  [ROOT] Configuration Error on Network  Critical  Unknown  Closed   \n",
       "1  Authentication Failure on Backup Link  Critical  Unknown  Closed   \n",
       "2               Routing Loop on Firewall  Critical  Unknown  Closed   \n",
       "3             Hardware Failure on Router  Critical  Unknown  Closed   \n",
       "4             Connection Down on Circuit  Critical  Unknown  Closed   \n",
       "\n",
       "       resolutionDate    customer  resolution_time  creation_day_of_week  \\\n",
       "0 2025-01-01 09:00:00  9905095026         8.833333                     2   \n",
       "1 2025-01-01 05:52:28  9905095026         5.541111                     2   \n",
       "2 2025-01-01 09:00:00  9905095026         8.583333                     2   \n",
       "3 2025-01-01 09:00:00  9905095026         8.333333                     2   \n",
       "4 2025-01-01 09:00:00  9902641725         8.333333                     2   \n",
       "\n",
       "   creation_month  is_weekend  \n",
       "0               1           0  \n",
       "1               1           0  \n",
       "2               1           0  \n",
       "3               1           0  \n",
       "4               1           0  "
      ],
      "text/html": [
       "<div>\n",
       "<style scoped>\n",
       "    .dataframe tbody tr th:only-of-type {\n",
       "        vertical-align: middle;\n",
       "    }\n",
       "\n",
       "    .dataframe tbody tr th {\n",
       "        vertical-align: top;\n",
       "    }\n",
       "\n",
       "    .dataframe thead th {\n",
       "        text-align: right;\n",
       "    }\n",
       "</style>\n",
       "<table border=\"1\" class=\"dataframe\">\n",
       "  <thead>\n",
       "    <tr style=\"text-align: right;\">\n",
       "      <th></th>\n",
       "      <th>ticketId</th>\n",
       "      <th>category</th>\n",
       "      <th>creationDate</th>\n",
       "      <th>device</th>\n",
       "      <th>issueType</th>\n",
       "      <th>priority</th>\n",
       "      <th>severity</th>\n",
       "      <th>status</th>\n",
       "      <th>resolutionDate</th>\n",
       "      <th>customer</th>\n",
       "      <th>resolution_time</th>\n",
       "      <th>creation_day_of_week</th>\n",
       "      <th>creation_month</th>\n",
       "      <th>is_weekend</th>\n",
       "    </tr>\n",
       "  </thead>\n",
       "  <tbody>\n",
       "    <tr>\n",
       "      <th>0</th>\n",
       "      <td>T4347360</td>\n",
       "      <td>Wireless Network</td>\n",
       "      <td>2025-01-01 00:10:00</td>\n",
       "      <td>Gateway-CHI-V6500-WH892</td>\n",
       "      <td>[ROOT] Configuration Error on Network</td>\n",
       "      <td>Critical</td>\n",
       "      <td>Unknown</td>\n",
       "      <td>Closed</td>\n",
       "      <td>2025-01-01 09:00:00</td>\n",
       "      <td>9905095026</td>\n",
       "      <td>8.833333</td>\n",
       "      <td>2</td>\n",
       "      <td>1</td>\n",
       "      <td>0</td>\n",
       "    </tr>\n",
       "    <tr>\n",
       "      <th>1</th>\n",
       "      <td>T4347363</td>\n",
       "      <td>Wireless Network</td>\n",
       "      <td>2025-01-01 00:20:00</td>\n",
       "      <td>Modem-NYC-S8500-YE944</td>\n",
       "      <td>Authentication Failure on Backup Link</td>\n",
       "      <td>Critical</td>\n",
       "      <td>Unknown</td>\n",
       "      <td>Closed</td>\n",
       "      <td>2025-01-01 05:52:28</td>\n",
       "      <td>9905095026</td>\n",
       "      <td>5.541111</td>\n",
       "      <td>2</td>\n",
       "      <td>1</td>\n",
       "      <td>0</td>\n",
       "    </tr>\n",
       "    <tr>\n",
       "      <th>2</th>\n",
       "      <td>T4347366</td>\n",
       "      <td>Wireless Network</td>\n",
       "      <td>2025-01-01 00:25:00</td>\n",
       "      <td>Gateway-CHI-V6500-WH892</td>\n",
       "      <td>Routing Loop on Firewall</td>\n",
       "      <td>Critical</td>\n",
       "      <td>Unknown</td>\n",
       "      <td>Closed</td>\n",
       "      <td>2025-01-01 09:00:00</td>\n",
       "      <td>9905095026</td>\n",
       "      <td>8.583333</td>\n",
       "      <td>2</td>\n",
       "      <td>1</td>\n",
       "      <td>0</td>\n",
       "    </tr>\n",
       "    <tr>\n",
       "      <th>3</th>\n",
       "      <td>T4347375</td>\n",
       "      <td>Wireless Network</td>\n",
       "      <td>2025-01-01 00:40:00</td>\n",
       "      <td>Gateway-CHI-V6500-WH892</td>\n",
       "      <td>Hardware Failure on Router</td>\n",
       "      <td>Critical</td>\n",
       "      <td>Unknown</td>\n",
       "      <td>Closed</td>\n",
       "      <td>2025-01-01 09:00:00</td>\n",
       "      <td>9905095026</td>\n",
       "      <td>8.333333</td>\n",
       "      <td>2</td>\n",
       "      <td>1</td>\n",
       "      <td>0</td>\n",
       "    </tr>\n",
       "    <tr>\n",
       "      <th>4</th>\n",
       "      <td>T4347376</td>\n",
       "      <td>Wireless Network</td>\n",
       "      <td>2025-01-01 00:40:00</td>\n",
       "      <td>Hub-SEA-M3000-SJ762</td>\n",
       "      <td>Connection Down on Circuit</td>\n",
       "      <td>Critical</td>\n",
       "      <td>Unknown</td>\n",
       "      <td>Closed</td>\n",
       "      <td>2025-01-01 09:00:00</td>\n",
       "      <td>9902641725</td>\n",
       "      <td>8.333333</td>\n",
       "      <td>2</td>\n",
       "      <td>1</td>\n",
       "      <td>0</td>\n",
       "    </tr>\n",
       "  </tbody>\n",
       "</table>\n",
       "</div>"
      ]
     },
     "execution_count": 79,
     "metadata": {},
     "output_type": "execute_result"
    }
   ],
   "execution_count": 79
  },
  {
   "metadata": {},
   "cell_type": "markdown",
   "source": [
    "##### Détection des outliers par la méthode de l'IQR (Intervalle Interquartile):\n",
    "\n",
    "> Nous utilisons l'approche statistique basée sur l'IQR, considérant comme aberrantes les valeurs situées à plus de 1.5 × IQR des quartiles Q1 et Q3 :"
   ],
   "id": "7443ccd541ccdccb"
  },
  {
   "cell_type": "code",
   "id": "2947696a17e5859e",
   "metadata": {
    "ExecuteTime": {
     "end_time": "2025-05-22T02:38:23.739150Z",
     "start_time": "2025-05-22T02:38:23.703391Z"
    }
   },
   "source": [
    "# Identification des valeurs aberrantes\n",
    "Q1 = df['resolution_time'].quantile(0.25)\n",
    "Q3 = df['resolution_time'].quantile(0.75)\n",
    "IQR = Q3 - Q1\n",
    "lower_bound = Q1 - 1.5 * IQR\n",
    "upper_bound = Q3 + 1.5 * IQR\n",
    "\n",
    "outliers = df[(df['resolution_time'] < lower_bound) | (df['resolution_time'] > upper_bound)]\n",
    "print(f\"Nombre de valeurs aberrantes pour le temps de résolution : {len(outliers)}\")\n",
    "print(f\"Pourcentage de valeurs aberrantes : {(len(outliers) / len(df)) * 100:.2f}%\")"
   ],
   "outputs": [
    {
     "name": "stdout",
     "output_type": "stream",
     "text": [
      "Nombre de valeurs aberrantes pour le temps de résolution : 158\n",
      "Pourcentage de valeurs aberrantes : 3.34%\n"
     ]
    }
   ],
   "execution_count": 80
  },
  {
   "metadata": {},
   "cell_type": "markdown",
   "source": [
    "##### Traitement des valeurs aberrantes par remplacement\n",
    "\n",
    "> Nous créons une copie du dataframe pour préserver les données originales, puis remplaçons les valeurs aberrantes par la médiane, une mesure robuste de tendance centrale\n"
   ],
   "id": "3814779600468b31"
  },
  {
   "cell_type": "code",
   "id": "24f5942024031ec3",
   "metadata": {
    "ExecuteTime": {
     "end_time": "2025-05-22T02:38:23.950522Z",
     "start_time": "2025-05-22T02:38:23.916124Z"
    }
   },
   "source": [
    "# Application du traitement des valeurs aberrantes au dataset\n",
    "df_cleaned = df.copy()\n",
    "\n",
    "median_resolution_time = df_cleaned['resolution_time'].median()\n",
    "\n",
    "# Remplacer les valeurs aberrantes par la median\n",
    "df_cleaned.loc[df_cleaned['resolution_time'] < lower_bound, 'resolution_time'] = median_resolution_time\n",
    "df_cleaned.loc[df_cleaned['resolution_time'] > upper_bound, 'resolution_time'] = median_resolution_time\n",
    "\n",
    "print(f\"Après traitement - Min: {df_cleaned['resolution_time'].min()}, Max: {df_cleaned['resolution_time'].max()}\")"
   ],
   "outputs": [
    {
     "name": "stdout",
     "output_type": "stream",
     "text": [
      "Après traitement - Min: 1.903888888888889, Max: 64.69194444444445\n"
     ]
    }
   ],
   "execution_count": 81
  },
  {
   "metadata": {},
   "cell_type": "markdown",
   "source": [
    "##### Visualisation de l'impact du traitement des valeurs aberrantes\n",
    "> Pour évaluer l'efficacité de notre traitement des valeurs aberrantes, nous comparons visuellement la distribution du temps de résolution après intervention :\n"
   ],
   "id": "dc2ca0139b90f059"
  },
  {
   "cell_type": "code",
   "id": "77f52de10fedf946",
   "metadata": {
    "ExecuteTime": {
     "end_time": "2025-05-22T02:38:24.611569Z",
     "start_time": "2025-05-22T02:38:24.093167Z"
    }
   },
   "source": [
    "df_rt = df_cleaned['resolution_time']\n",
    "rt_mean = df_rt.mean()\n",
    "rt_median = df_rt.median()\n",
    "\n",
    "plt.figure(figsize=(10, 6))\n",
    "sns.histplot(df_rt, bins=20, kde=True, color='skyblue', edgecolor='black', alpha=0.8)\n",
    "plt.title('Distribution du temps de résolution des incidents')\n",
    "plt.xlabel('Temps de résolution (heures)')\n",
    "plt.ylabel('Fréquence')\n",
    "plt.axvline(rt_mean, color='red', linestyle='--', label=f'Moyenne: {rt_mean:.2f} heures')\n",
    "plt.axvline(rt_median, color='green', linestyle='--', label=f'Médiane: {rt_median:.2f} heures')\n",
    "plt.grid(True, alpha=0.3)\n",
    "plt.legend()\n",
    "plt.show()"
   ],
   "outputs": [
    {
     "data": {
      "text/plain": [
       "<Figure size 1000x600 with 1 Axes>"
      ],
      "image/png": "[encoded data removed]"
     },
     "metadata": {},
     "output_type": "display_data"
    }
   ],
   "execution_count": 82
  },
  {
   "metadata": {},
   "cell_type": "markdown",
   "source": [
    "##### Encodage des variables catégorielles\n",
    "\n",
    "> Application de l'encodage par Label Encoder au quatre variables catégorielles principales :\n",
    "> `issueType` : type de problème reporté\n",
    "> `category` : catégorie du ticket\n",
    "> `priority` : niveau de priorité attribué\n",
    "> `severity` : degré de gravité/impact\n"
   ],
   "id": "2cc408d768890e81"
  },
  {
   "cell_type": "code",
   "id": "7b20c55d5a939847",
   "metadata": {
    "ExecuteTime": {
     "end_time": "2025-05-22T02:38:24.693473Z",
     "start_time": "2025-05-22T02:38:24.669055Z"
    }
   },
   "source": [
    "# Limpiar espacios en blanco de la columna issueType\n",
    "df_cleaned['issueType'] = df_cleaned['issueType'].str.strip()\n",
    "\n",
    "categorical_cols = ['issueType', 'category', 'priority', 'severity']\n",
    "label_encoders = {}\n",
    "for col in categorical_cols:\n",
    "    le = LabelEncoder()\n",
    "    df_cleaned[col] = le.fit_transform(df_cleaned[col].astype(str))\n",
    "    label_encoders[col] = le"
   ],
   "outputs": [],
   "execution_count": 83
  },
  {
   "metadata": {},
   "cell_type": "markdown",
   "source": [
    "\n",
    "##### Persistance des encodeurs\n",
    "\n",
    "> Ce bloc sauvegarde les encodeurs d'étiquettes (LabelEncoders) dans un fichier pickle pour une utilisation ultérieure. Cela garantit que la même transformation appliquée pendant l'entraînement sera utilisée lors de la prédiction, assurant ainsi la cohérence dans l'encodage/décodage des variables catégorielles.\n",
    "\n"
   ],
   "id": "b3a03bab532a09fb"
  },
  {
   "metadata": {
    "ExecuteTime": {
     "end_time": "2025-05-22T02:38:24.765961Z",
     "start_time": "2025-05-22T02:38:24.760342Z"
    }
   },
   "cell_type": "code",
   "source": [
    "# Sauvegarde pour utilisation future\n",
    "with open(os.path.join(PROJECT_ROOT, \"models\", \"transformers\", \"label_encoders.pkl\"), 'wb') as f:\n",
    "    pickle.dump(label_encoders, f)"
   ],
   "id": "4ef2e8a603d89029",
   "outputs": [],
   "execution_count": 84
  },
  {
   "metadata": {},
   "cell_type": "markdown",
   "source": "#### Préparation finale",
   "id": "a0eb1e46dfd7ae88"
  },
  {
   "metadata": {},
   "cell_type": "markdown",
   "source": [
    "##### Calcul de la matrice de corrélation\n",
    "\n",
    "> Cette cellule calcule la matrice de corrélation entre les variables numériques et catégorielles encodées du jeu de données. Cette analyse nous permet d'identifier les relations linéaires entre les différentes caractéristiques et le temps de résolution.\n"
   ],
   "id": "61585a9cd32c6bd0"
  },
  {
   "cell_type": "code",
   "id": "71236c1ee5f83391",
   "metadata": {
    "ExecuteTime": {
     "end_time": "2025-05-22T02:38:24.891858Z",
     "start_time": "2025-05-22T02:38:24.869540Z"
    }
   },
   "source": [
    "correlation_matrix = df_cleaned[['resolution_time', 'category','severity', 'issueType', 'priority', 'creation_day_of_week', 'creation_month', 'is_weekend']].corr()\n",
    "display(correlation_matrix)"
   ],
   "outputs": [
    {
     "data": {
      "text/plain": [
       "                      resolution_time  category  severity  issueType  \\\n",
       "resolution_time              1.000000 -0.365367  0.030258   0.111931   \n",
       "category                    -0.365367  1.000000  0.054094   0.018247   \n",
       "severity                     0.030258  0.054094  1.000000  -0.016444   \n",
       "issueType                    0.111931  0.018247 -0.016444   1.000000   \n",
       "priority                     0.768150 -0.310798  0.059977   0.084270   \n",
       "creation_day_of_week         0.142696 -0.101908  0.031527  -0.009277   \n",
       "creation_month               0.333608 -0.327847 -0.005586   0.064737   \n",
       "is_weekend                   0.147683 -0.156152  0.053835  -0.002301   \n",
       "\n",
       "                      priority  creation_day_of_week  creation_month  \\\n",
       "resolution_time       0.768150              0.142696        0.333608   \n",
       "category             -0.310798             -0.101908       -0.327847   \n",
       "severity              0.059977              0.031527       -0.005586   \n",
       "issueType             0.084270             -0.009277        0.064737   \n",
       "priority              1.000000              0.167571        0.364045   \n",
       "creation_day_of_week  0.167571              1.000000        0.173352   \n",
       "creation_month        0.364045              0.173352        1.000000   \n",
       "is_weekend            0.158209              0.802495        0.241737   \n",
       "\n",
       "                      is_weekend  \n",
       "resolution_time         0.147683  \n",
       "category               -0.156152  \n",
       "severity                0.053835  \n",
       "issueType              -0.002301  \n",
       "priority                0.158209  \n",
       "creation_day_of_week    0.802495  \n",
       "creation_month          0.241737  \n",
       "is_weekend              1.000000  "
      ],
      "text/html": [
       "<div>\n",
       "<style scoped>\n",
       "    .dataframe tbody tr th:only-of-type {\n",
       "        vertical-align: middle;\n",
       "    }\n",
       "\n",
       "    .dataframe tbody tr th {\n",
       "        vertical-align: top;\n",
       "    }\n",
       "\n",
       "    .dataframe thead th {\n",
       "        text-align: right;\n",
       "    }\n",
       "</style>\n",
       "<table border=\"1\" class=\"dataframe\">\n",
       "  <thead>\n",
       "    <tr style=\"text-align: right;\">\n",
       "      <th></th>\n",
       "      <th>resolution_time</th>\n",
       "      <th>category</th>\n",
       "      <th>severity</th>\n",
       "      <th>issueType</th>\n",
       "      <th>priority</th>\n",
       "      <th>creation_day_of_week</th>\n",
       "      <th>creation_month</th>\n",
       "      <th>is_weekend</th>\n",
       "    </tr>\n",
       "  </thead>\n",
       "  <tbody>\n",
       "    <tr>\n",
       "      <th>resolution_time</th>\n",
       "      <td>1.000000</td>\n",
       "      <td>-0.365367</td>\n",
       "      <td>0.030258</td>\n",
       "      <td>0.111931</td>\n",
       "      <td>0.768150</td>\n",
       "      <td>0.142696</td>\n",
       "      <td>0.333608</td>\n",
       "      <td>0.147683</td>\n",
       "    </tr>\n",
       "    <tr>\n",
       "      <th>category</th>\n",
       "      <td>-0.365367</td>\n",
       "      <td>1.000000</td>\n",
       "      <td>0.054094</td>\n",
       "      <td>0.018247</td>\n",
       "      <td>-0.310798</td>\n",
       "      <td>-0.101908</td>\n",
       "      <td>-0.327847</td>\n",
       "      <td>-0.156152</td>\n",
       "    </tr>\n",
       "    <tr>\n",
       "      <th>severity</th>\n",
       "      <td>0.030258</td>\n",
       "      <td>0.054094</td>\n",
       "      <td>1.000000</td>\n",
       "      <td>-0.016444</td>\n",
       "      <td>0.059977</td>\n",
       "      <td>0.031527</td>\n",
       "      <td>-0.005586</td>\n",
       "      <td>0.053835</td>\n",
       "    </tr>\n",
       "    <tr>\n",
       "      <th>issueType</th>\n",
       "      <td>0.111931</td>\n",
       "      <td>0.018247</td>\n",
       "      <td>-0.016444</td>\n",
       "      <td>1.000000</td>\n",
       "      <td>0.084270</td>\n",
       "      <td>-0.009277</td>\n",
       "      <td>0.064737</td>\n",
       "      <td>-0.002301</td>\n",
       "    </tr>\n",
       "    <tr>\n",
       "      <th>priority</th>\n",
       "      <td>0.768150</td>\n",
       "      <td>-0.310798</td>\n",
       "      <td>0.059977</td>\n",
       "      <td>0.084270</td>\n",
       "      <td>1.000000</td>\n",
       "      <td>0.167571</td>\n",
       "      <td>0.364045</td>\n",
       "      <td>0.158209</td>\n",
       "    </tr>\n",
       "    <tr>\n",
       "      <th>creation_day_of_week</th>\n",
       "      <td>0.142696</td>\n",
       "      <td>-0.101908</td>\n",
       "      <td>0.031527</td>\n",
       "      <td>-0.009277</td>\n",
       "      <td>0.167571</td>\n",
       "      <td>1.000000</td>\n",
       "      <td>0.173352</td>\n",
       "      <td>0.802495</td>\n",
       "    </tr>\n",
       "    <tr>\n",
       "      <th>creation_month</th>\n",
       "      <td>0.333608</td>\n",
       "      <td>-0.327847</td>\n",
       "      <td>-0.005586</td>\n",
       "      <td>0.064737</td>\n",
       "      <td>0.364045</td>\n",
       "      <td>0.173352</td>\n",
       "      <td>1.000000</td>\n",
       "      <td>0.241737</td>\n",
       "    </tr>\n",
       "    <tr>\n",
       "      <th>is_weekend</th>\n",
       "      <td>0.147683</td>\n",
       "      <td>-0.156152</td>\n",
       "      <td>0.053835</td>\n",
       "      <td>-0.002301</td>\n",
       "      <td>0.158209</td>\n",
       "      <td>0.802495</td>\n",
       "      <td>0.241737</td>\n",
       "      <td>1.000000</td>\n",
       "    </tr>\n",
       "  </tbody>\n",
       "</table>\n",
       "</div>"
      ]
     },
     "metadata": {},
     "output_type": "display_data"
    }
   ],
   "execution_count": 85
  },
  {
   "metadata": {},
   "cell_type": "markdown",
   "source": [
    "##### Visualisation de la matrice de corrélation\n",
    "\n",
    "> Cette cellule crée une représentation visuelle de la matrice de corrélation sous forme de heatmap.\n"
   ],
   "id": "9b7b3aeb0f311b75"
  },
  {
   "cell_type": "code",
   "id": "90e84afd1f60913c",
   "metadata": {
    "ExecuteTime": {
     "end_time": "2025-05-22T02:38:25.440139Z",
     "start_time": "2025-05-22T02:38:24.997800Z"
    }
   },
   "source": [
    "plt.figure(figsize=(6, 5))\n",
    "sns.heatmap(correlation_matrix, annot=True, cmap='coolwarm', fmt=\".2f\")\n",
    "plt.title('Matrice de corrélation')\n",
    "plt.show()"
   ],
   "outputs": [
    {
     "data": {
      "text/plain": [
       "<Figure size 600x500 with 2 Axes>"
      ],
      "image/png": "[encoded data removed]"
     },
     "metadata": {},
     "output_type": "display_data"
    }
   ],
   "execution_count": 86
  },
  {
   "metadata": {},
   "cell_type": "markdown",
   "source": [
    "##### Sauvegarde du jeu de données nettoyé\n",
    "\n",
    "> Cette cellule enregistre le jeu de données nettoyé et transformé dans un fichier CSV pour une utilisation ultérieure dans les phases de développement du modèle.\n"
   ],
   "id": "13106a9b02349976"
  },
  {
   "cell_type": "code",
   "id": "7dcdb0682413bc0e",
   "metadata": {
    "ExecuteTime": {
     "end_time": "2025-05-22T02:38:25.576914Z",
     "start_time": "2025-05-22T02:38:25.486888Z"
    }
   },
   "source": [
    "# Saving the cleaned dataset\n",
    "df_cleaned.to_csv(os.path.join(PROJECT_ROOT, \"data\", \"processed\", \"clean_trouble_tickets.csv\"), index=False)\n"
   ],
   "outputs": [],
   "execution_count": 87
  },
  {
   "cell_type": "markdown",
   "id": "49786d76",
   "metadata": {},
   "source": [
    "## ✅ Conclusion du prétraitement\n",
    "\n",
    "Le jeu de données a été préparé avec soin :\n",
    "\n",
    "- Les variables inutiles ont été éliminées\n",
    "- Les valeurs manquantes ont été traitées ou filtrées\n",
    "- Les dates ont été converties et enrichies (jour de semaine, mois, week-end)\n",
    "- Les variables catégorielles ont été encodées\n",
    "- La variable cible `resolution_time` a été correctement générée\n",
    "\n",
    "➡️ Le dataset est maintenant prêt pour l’étape suivante : **l'entraînement des modèles de régression**.\n"
   ]
  }
 ],
 "metadata": {
  "kernelspec": {
   "display_name": "Python 3",
   "language": "python",
   "name": "python3"
  },
  "language_info": {
   "codemirror_mode": {
    "name": "ipython",
    "version": 2
   },
   "file_extension": ".py",
   "mimetype": "text/x-python",
   "name": "python",
   "nbconvert_exporter": "python",
   "pygments_lexer": "ipython2",
   "version": "2.7.6"
  }
 },
 "nbformat": 4,
 "nbformat_minor": 5
}
